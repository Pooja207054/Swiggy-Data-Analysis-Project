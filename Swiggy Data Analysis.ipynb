{
 "cells": [
  {
   "cell_type": "markdown",
   "id": "3b3f7e38-a076-498a-bfae-2c05f9dd99ea",
   "metadata": {},
   "source": [
    "# Step-1 : Business Problem Understanding"
   ]
  },
  {
   "cell_type": "markdown",
   "id": "f9f3f83f-869f-4efb-92eb-99386188ec80",
   "metadata": {},
   "source": [
    "\n",
    "**The Swiggy Restaurant Dataset is a comprehensive collection of data related to restaurants available on the Swiggy food delivery platform.\n",
    "This dataset provides valuable information about various aspects of restaurants, enabling users to explore, analyze, and gain insights into the restaurant landscape on Swiggy.**"
   ]
  },
  {
   "cell_type": "code",
   "execution_count": 2,
   "id": "c54af939-db61-433e-b119-8292788958c3",
   "metadata": {},
   "outputs": [],
   "source": [
    "import pandas as pd\n",
    "import numpy as np\n",
    "import matplotlib.pyplot as plt\n",
    "import seaborn as sns\n"
   ]
  },
  {
   "cell_type": "code",
   "execution_count": 3,
   "id": "3dc96600-8784-4951-9e07-723f2fe421ee",
   "metadata": {},
   "outputs": [
    {
     "data": {
      "text/html": [
       "<div>\n",
       "<style scoped>\n",
       "    .dataframe tbody tr th:only-of-type {\n",
       "        vertical-align: middle;\n",
       "    }\n",
       "\n",
       "    .dataframe tbody tr th {\n",
       "        vertical-align: top;\n",
       "    }\n",
       "\n",
       "    .dataframe thead th {\n",
       "        text-align: right;\n",
       "    }\n",
       "</style>\n",
       "<table border=\"1\" class=\"dataframe\">\n",
       "  <thead>\n",
       "    <tr style=\"text-align: right;\">\n",
       "      <th></th>\n",
       "      <th>ID</th>\n",
       "      <th>Area</th>\n",
       "      <th>City</th>\n",
       "      <th>Restaurant</th>\n",
       "      <th>Price</th>\n",
       "      <th>Avg ratings</th>\n",
       "      <th>Total ratings</th>\n",
       "      <th>Food type</th>\n",
       "      <th>Address</th>\n",
       "      <th>Delivery time</th>\n",
       "    </tr>\n",
       "  </thead>\n",
       "  <tbody>\n",
       "    <tr>\n",
       "      <th>0</th>\n",
       "      <td>211</td>\n",
       "      <td>Koramangala</td>\n",
       "      <td>Bangalore</td>\n",
       "      <td>Tandoor Hut</td>\n",
       "      <td>300.0</td>\n",
       "      <td>4.4</td>\n",
       "      <td>100</td>\n",
       "      <td>Biryani,Chinese,North Indian,South Indian</td>\n",
       "      <td>5Th Block</td>\n",
       "      <td>59</td>\n",
       "    </tr>\n",
       "    <tr>\n",
       "      <th>1</th>\n",
       "      <td>221</td>\n",
       "      <td>Koramangala</td>\n",
       "      <td>Bangalore</td>\n",
       "      <td>Tunday Kababi</td>\n",
       "      <td>300.0</td>\n",
       "      <td>4.1</td>\n",
       "      <td>100</td>\n",
       "      <td>Mughlai,Lucknowi</td>\n",
       "      <td>5Th Block</td>\n",
       "      <td>56</td>\n",
       "    </tr>\n",
       "    <tr>\n",
       "      <th>2</th>\n",
       "      <td>246</td>\n",
       "      <td>Jogupalya</td>\n",
       "      <td>Bangalore</td>\n",
       "      <td>Kim Lee</td>\n",
       "      <td>650.0</td>\n",
       "      <td>4.4</td>\n",
       "      <td>100</td>\n",
       "      <td>Chinese</td>\n",
       "      <td>Double Road</td>\n",
       "      <td>50</td>\n",
       "    </tr>\n",
       "    <tr>\n",
       "      <th>3</th>\n",
       "      <td>248</td>\n",
       "      <td>Indiranagar</td>\n",
       "      <td>Bangalore</td>\n",
       "      <td>New Punjabi Hotel</td>\n",
       "      <td>250.0</td>\n",
       "      <td>3.9</td>\n",
       "      <td>500</td>\n",
       "      <td>North Indian,Punjabi,Tandoor,Chinese</td>\n",
       "      <td>80 Feet Road</td>\n",
       "      <td>57</td>\n",
       "    </tr>\n",
       "    <tr>\n",
       "      <th>4</th>\n",
       "      <td>249</td>\n",
       "      <td>Indiranagar</td>\n",
       "      <td>Bangalore</td>\n",
       "      <td>Nh8</td>\n",
       "      <td>350.0</td>\n",
       "      <td>4.0</td>\n",
       "      <td>50</td>\n",
       "      <td>Rajasthani,Gujarati,North Indian,Snacks,Desser...</td>\n",
       "      <td>80 Feet Road</td>\n",
       "      <td>63</td>\n",
       "    </tr>\n",
       "    <tr>\n",
       "      <th>...</th>\n",
       "      <td>...</td>\n",
       "      <td>...</td>\n",
       "      <td>...</td>\n",
       "      <td>...</td>\n",
       "      <td>...</td>\n",
       "      <td>...</td>\n",
       "      <td>...</td>\n",
       "      <td>...</td>\n",
       "      <td>...</td>\n",
       "      <td>...</td>\n",
       "    </tr>\n",
       "    <tr>\n",
       "      <th>8675</th>\n",
       "      <td>464626</td>\n",
       "      <td>Panjarapole Cross Road</td>\n",
       "      <td>Ahmedabad</td>\n",
       "      <td>Malt Pizza</td>\n",
       "      <td>500.0</td>\n",
       "      <td>2.9</td>\n",
       "      <td>80</td>\n",
       "      <td>Pizzas</td>\n",
       "      <td>Navrangpura</td>\n",
       "      <td>40</td>\n",
       "    </tr>\n",
       "    <tr>\n",
       "      <th>8676</th>\n",
       "      <td>465835</td>\n",
       "      <td>Rohini</td>\n",
       "      <td>Delhi</td>\n",
       "      <td>Jay Mata Ji Home Kitchen</td>\n",
       "      <td>200.0</td>\n",
       "      <td>2.9</td>\n",
       "      <td>80</td>\n",
       "      <td>South Indian</td>\n",
       "      <td>Rohini</td>\n",
       "      <td>28</td>\n",
       "    </tr>\n",
       "    <tr>\n",
       "      <th>8677</th>\n",
       "      <td>465872</td>\n",
       "      <td>Rohini</td>\n",
       "      <td>Delhi</td>\n",
       "      <td>Chinese Kitchen King</td>\n",
       "      <td>150.0</td>\n",
       "      <td>2.9</td>\n",
       "      <td>80</td>\n",
       "      <td>Chinese,Snacks,Tandoor</td>\n",
       "      <td>Rohini</td>\n",
       "      <td>58</td>\n",
       "    </tr>\n",
       "    <tr>\n",
       "      <th>8678</th>\n",
       "      <td>465990</td>\n",
       "      <td>Rohini</td>\n",
       "      <td>Delhi</td>\n",
       "      <td>Shree Ram Paratha Wala</td>\n",
       "      <td>150.0</td>\n",
       "      <td>2.9</td>\n",
       "      <td>80</td>\n",
       "      <td>North Indian,Indian,Snacks</td>\n",
       "      <td>Rohini</td>\n",
       "      <td>28</td>\n",
       "    </tr>\n",
       "    <tr>\n",
       "      <th>8679</th>\n",
       "      <td>466488</td>\n",
       "      <td>Navrangpura</td>\n",
       "      <td>Ahmedabad</td>\n",
       "      <td>Sassy Street</td>\n",
       "      <td>250.0</td>\n",
       "      <td>2.9</td>\n",
       "      <td>80</td>\n",
       "      <td>Chaat,Snacks,Chinese</td>\n",
       "      <td>Navrangpura</td>\n",
       "      <td>44</td>\n",
       "    </tr>\n",
       "  </tbody>\n",
       "</table>\n",
       "<p>8680 rows × 10 columns</p>\n",
       "</div>"
      ],
      "text/plain": [
       "          ID                    Area       City                Restaurant  \\\n",
       "0        211             Koramangala  Bangalore               Tandoor Hut   \n",
       "1        221             Koramangala  Bangalore             Tunday Kababi   \n",
       "2        246               Jogupalya  Bangalore                   Kim Lee   \n",
       "3        248             Indiranagar  Bangalore         New Punjabi Hotel   \n",
       "4        249             Indiranagar  Bangalore                       Nh8   \n",
       "...      ...                     ...        ...                       ...   \n",
       "8675  464626  Panjarapole Cross Road  Ahmedabad                Malt Pizza   \n",
       "8676  465835                  Rohini      Delhi  Jay Mata Ji Home Kitchen   \n",
       "8677  465872                  Rohini      Delhi      Chinese Kitchen King   \n",
       "8678  465990                  Rohini      Delhi    Shree Ram Paratha Wala   \n",
       "8679  466488             Navrangpura  Ahmedabad              Sassy Street   \n",
       "\n",
       "      Price  Avg ratings  Total ratings  \\\n",
       "0     300.0          4.4            100   \n",
       "1     300.0          4.1            100   \n",
       "2     650.0          4.4            100   \n",
       "3     250.0          3.9            500   \n",
       "4     350.0          4.0             50   \n",
       "...     ...          ...            ...   \n",
       "8675  500.0          2.9             80   \n",
       "8676  200.0          2.9             80   \n",
       "8677  150.0          2.9             80   \n",
       "8678  150.0          2.9             80   \n",
       "8679  250.0          2.9             80   \n",
       "\n",
       "                                              Food type       Address  \\\n",
       "0             Biryani,Chinese,North Indian,South Indian     5Th Block   \n",
       "1                                      Mughlai,Lucknowi     5Th Block   \n",
       "2                                               Chinese   Double Road   \n",
       "3                  North Indian,Punjabi,Tandoor,Chinese  80 Feet Road   \n",
       "4     Rajasthani,Gujarati,North Indian,Snacks,Desser...  80 Feet Road   \n",
       "...                                                 ...           ...   \n",
       "8675                                             Pizzas   Navrangpura   \n",
       "8676                                       South Indian        Rohini   \n",
       "8677                             Chinese,Snacks,Tandoor        Rohini   \n",
       "8678                         North Indian,Indian,Snacks        Rohini   \n",
       "8679                               Chaat,Snacks,Chinese   Navrangpura   \n",
       "\n",
       "      Delivery time  \n",
       "0                59  \n",
       "1                56  \n",
       "2                50  \n",
       "3                57  \n",
       "4                63  \n",
       "...             ...  \n",
       "8675             40  \n",
       "8676             28  \n",
       "8677             58  \n",
       "8678             28  \n",
       "8679             44  \n",
       "\n",
       "[8680 rows x 10 columns]"
      ]
     },
     "execution_count": 3,
     "metadata": {},
     "output_type": "execute_result"
    }
   ],
   "source": [
    "df=pd.read_csv(\"C:\\\\Users\\\\Pooja\\\\OneDrive\\\\文档\\Desktop\\\\Swiggy Dashboard\\\\swiggy.csv\")\n",
    "df"
   ]
  },
  {
   "cell_type": "code",
   "execution_count": 4,
   "id": "d9ac55a1-9447-4346-b2b1-d44741caefcc",
   "metadata": {},
   "outputs": [
    {
     "name": "stdout",
     "output_type": "stream",
     "text": [
      "<class 'pandas.core.frame.DataFrame'>\n",
      "RangeIndex: 8680 entries, 0 to 8679\n",
      "Data columns (total 10 columns):\n",
      " #   Column         Non-Null Count  Dtype  \n",
      "---  ------         --------------  -----  \n",
      " 0   ID             8680 non-null   int64  \n",
      " 1   Area           8680 non-null   object \n",
      " 2   City           8680 non-null   object \n",
      " 3   Restaurant     8680 non-null   object \n",
      " 4   Price          8680 non-null   float64\n",
      " 5   Avg ratings    8680 non-null   float64\n",
      " 6   Total ratings  8680 non-null   int64  \n",
      " 7   Food type      8680 non-null   object \n",
      " 8   Address        8680 non-null   object \n",
      " 9   Delivery time  8680 non-null   int64  \n",
      "dtypes: float64(2), int64(3), object(5)\n",
      "memory usage: 678.3+ KB\n"
     ]
    }
   ],
   "source": [
    "df.info()"
   ]
  },
  {
   "cell_type": "code",
   "execution_count": 5,
   "id": "8c65ebf1-3849-462c-bdfe-c7ce10960865",
   "metadata": {},
   "outputs": [
    {
     "data": {
      "text/plain": [
       "Index(['ID', 'Area', 'City', 'Restaurant', 'Price', 'Avg ratings',\n",
       "       'Total ratings', 'Food type', 'Address', 'Delivery time'],\n",
       "      dtype='object')"
      ]
     },
     "execution_count": 5,
     "metadata": {},
     "output_type": "execute_result"
    }
   ],
   "source": [
    "df.columns"
   ]
  },
  {
   "cell_type": "code",
   "execution_count": 6,
   "id": "319a2145-fede-4516-a8a6-c0a58692ee9e",
   "metadata": {},
   "outputs": [
    {
     "data": {
      "text/plain": [
       "ID                 int64\n",
       "Area              object\n",
       "City              object\n",
       "Restaurant        object\n",
       "Price            float64\n",
       "Avg ratings      float64\n",
       "Total ratings      int64\n",
       "Food type         object\n",
       "Address           object\n",
       "Delivery time      int64\n",
       "dtype: object"
      ]
     },
     "execution_count": 6,
     "metadata": {},
     "output_type": "execute_result"
    }
   ],
   "source": [
    "df.dtypes"
   ]
  },
  {
   "cell_type": "code",
   "execution_count": 7,
   "id": "98b12cc7-10f0-46dd-a4da-5029b7e9615e",
   "metadata": {},
   "outputs": [
    {
     "data": {
      "text/plain": [
       "ID\n",
       "211       1\n",
       "441413    1\n",
       "441787    1\n",
       "441784    1\n",
       "441777    1\n",
       "         ..\n",
       "289953    1\n",
       "289868    1\n",
       "289697    1\n",
       "289696    1\n",
       "466488    1\n",
       "Name: count, Length: 8680, dtype: int64"
      ]
     },
     "execution_count": 7,
     "metadata": {},
     "output_type": "execute_result"
    }
   ],
   "source": [
    "df[\"ID\"].value_counts()"
   ]
  },
  {
   "cell_type": "code",
   "execution_count": 8,
   "id": "eac4f06b-912b-4178-b2cd-342c60296214",
   "metadata": {},
   "outputs": [
    {
     "data": {
      "text/plain": [
       "array([   211,    221,    246, ..., 465872, 465990, 466488], dtype=int64)"
      ]
     },
     "execution_count": 8,
     "metadata": {},
     "output_type": "execute_result"
    }
   ],
   "source": [
    "df[\"ID\"].unique()"
   ]
  },
  {
   "cell_type": "code",
   "execution_count": 9,
   "id": "e2d6935e-18aa-4545-a7e0-98c62fe22669",
   "metadata": {},
   "outputs": [
    {
     "data": {
      "text/plain": [
       "Area\n",
       "Rohini                    257\n",
       "Chembur                   208\n",
       "Kothrud                   149\n",
       "Andheri East              135\n",
       "Navrangpura               132\n",
       "                         ... \n",
       "Shakurpur                   1\n",
       "Magob                       1\n",
       "Bosepukur                   1\n",
       "Ambegaon                    1\n",
       "Panjarapole Cross Road      1\n",
       "Name: count, Length: 833, dtype: int64"
      ]
     },
     "execution_count": 9,
     "metadata": {},
     "output_type": "execute_result"
    }
   ],
   "source": [
    "df[\"Area\"].value_counts()"
   ]
  },
  {
   "cell_type": "code",
   "execution_count": 10,
   "id": "98fa5fee-10fd-4355-a85b-3d02ca433ac5",
   "metadata": {},
   "outputs": [
    {
     "data": {
      "text/plain": [
       "833"
      ]
     },
     "execution_count": 10,
     "metadata": {},
     "output_type": "execute_result"
    }
   ],
   "source": [
    "df[\"Area\"].nunique()"
   ]
  },
  {
   "cell_type": "code",
   "execution_count": 11,
   "id": "783d0b31-7523-4dbe-8cb9-f63a41c41a2e",
   "metadata": {},
   "outputs": [],
   "source": [
    "df = df.drop([\"Area\"], axis=1)"
   ]
  },
  {
   "cell_type": "code",
   "execution_count": 12,
   "id": "ce80fc11-dd8f-409b-9869-e4e36a519cf0",
   "metadata": {},
   "outputs": [
    {
     "data": {
      "text/plain": [
       "City\n",
       "Kolkata      1346\n",
       "Mumbai       1277\n",
       "Chennai      1106\n",
       "Pune         1090\n",
       "Hyderabad    1075\n",
       "Bangalore     946\n",
       "Ahmedabad     717\n",
       "Delhi         611\n",
       "Surat         512\n",
       "Name: count, dtype: int64"
      ]
     },
     "execution_count": 12,
     "metadata": {},
     "output_type": "execute_result"
    }
   ],
   "source": [
    "df[\"City\"].value_counts()"
   ]
  },
  {
   "cell_type": "code",
   "execution_count": 13,
   "id": "03a89651-e95a-4992-8d40-0f2d064ebd6e",
   "metadata": {},
   "outputs": [
    {
     "data": {
      "text/plain": [
       "9"
      ]
     },
     "execution_count": 13,
     "metadata": {},
     "output_type": "execute_result"
    }
   ],
   "source": [
    "df[\"City\"].nunique()"
   ]
  },
  {
   "cell_type": "code",
   "execution_count": 14,
   "id": "1b5d55b9-dd6f-4855-9c36-2b08870ce2f3",
   "metadata": {},
   "outputs": [
    {
     "data": {
      "text/plain": [
       "Restaurant\n",
       "La Pino'Z Pizza           13\n",
       "Nic Natural Ice Creams    10\n",
       "Baskin Robbins            10\n",
       "Subway                    10\n",
       "Kfc                        9\n",
       "                          ..\n",
       "Home Factory               1\n",
       "Meals And Bowls            1\n",
       "Waffle Dreams              1\n",
       "Pratik Restaurant          1\n",
       "Sassy Street               1\n",
       "Name: count, Length: 7865, dtype: int64"
      ]
     },
     "execution_count": 14,
     "metadata": {},
     "output_type": "execute_result"
    }
   ],
   "source": [
    "df[\"Restaurant\"].value_counts()"
   ]
  },
  {
   "cell_type": "code",
   "execution_count": 15,
   "id": "996326b4-82a5-416c-a7db-bbb104a05e74",
   "metadata": {},
   "outputs": [
    {
     "data": {
      "text/plain": [
       "7865"
      ]
     },
     "execution_count": 15,
     "metadata": {},
     "output_type": "execute_result"
    }
   ],
   "source": [
    "df[\"Restaurant\"].nunique()"
   ]
  },
  {
   "cell_type": "code",
   "execution_count": 16,
   "id": "1171dfc0-38e1-48e7-9557-86884f8da19e",
   "metadata": {},
   "outputs": [],
   "source": [
    "df = df.drop([\"Restaurant\"], axis=1)"
   ]
  },
  {
   "cell_type": "code",
   "execution_count": 17,
   "id": "a0ed8aef-30e2-44c9-ac68-5a227cde7a9e",
   "metadata": {},
   "outputs": [
    {
     "data": {
      "text/plain": [
       "Price\n",
       "300.0    1776\n",
       "200.0    1774\n",
       "250.0     968\n",
       "400.0     838\n",
       "500.0     605\n",
       "         ... \n",
       "196.0       1\n",
       "355.0       1\n",
       "398.0       1\n",
       "620.0       1\n",
       "5.0         1\n",
       "Name: count, Length: 120, dtype: int64"
      ]
     },
     "execution_count": 17,
     "metadata": {},
     "output_type": "execute_result"
    }
   ],
   "source": [
    "df[\"Price\"].value_counts()"
   ]
  },
  {
   "cell_type": "code",
   "execution_count": 18,
   "id": "2d03741f-5a36-4ae7-a514-f91614839bf5",
   "metadata": {},
   "outputs": [
    {
     "data": {
      "text/plain": [
       "array([3.000e+02, 6.500e+02, 2.500e+02, 3.500e+02, 8.000e+02, 1.000e+03,\n",
       "       1.500e+02, 4.000e+02, 5.320e+02, 5.000e+02, 2.900e+02, 1.200e+03,\n",
       "       6.000e+02, 8.500e+02, 9.000e+02, 2.000e+02, 7.500e+02, 1.100e+03,\n",
       "       4.500e+02, 5.500e+02, 7.000e+02, 1.500e+03, 1.600e+03, 3.260e+02,\n",
       "       1.400e+03, 1.000e+02, 1.300e+03, 2.490e+02, 1.700e+03, 2.990e+02,\n",
       "       5.990e+02, 2.200e+02, 1.200e+02, 1.930e+02, 4.990e+02, 1.900e+03,\n",
       "       1.780e+02, 9.500e+02, 3.300e+02, 1.000e+00, 5.000e+01, 1.600e+02,\n",
       "       1.800e+03, 2.000e+03, 0.000e+00, 2.560e+02, 1.970e+02, 1.400e+02,\n",
       "       1.800e+02, 1.250e+03, 2.000e+01, 2.600e+02, 9.900e+01, 3.000e+01,\n",
       "       2.400e+02, 8.000e+01, 1.255e+03, 1.550e+02, 1.990e+02, 2.700e+02,\n",
       "       2.800e+02, 4.000e+01, 1.750e+02, 3.990e+02, 2.500e+03, 1.490e+02,\n",
       "       2.300e+02, 7.000e+01, 4.800e+01, 1.900e+02, 2.750e+02, 3.800e+02,\n",
       "       2.890e+02, 3.250e+02, 1.590e+02, 4.900e+01, 3.600e+02, 4.200e+02,\n",
       "       1.700e+02, 1.290e+02, 3.900e+02, 2.000e+00, 2.050e+02, 4.930e+02,\n",
       "       1.960e+02, 3.550e+02, 3.980e+02, 1.100e+02, 6.200e+02, 1.000e+01,\n",
       "       1.050e+02, 3.200e+02, 4.800e+02, 5.400e+02, 5.900e+02, 3.380e+02,\n",
       "       9.780e+02, 1.370e+02, 3.750e+02, 1.260e+02, 3.840e+02, 2.510e+02,\n",
       "       1.510e+02, 1.650e+03, 8.500e+01, 1.500e+01, 6.500e+01, 1.300e+02,\n",
       "       6.000e+01, 6.400e+02, 2.250e+02, 1.980e+02, 9.800e+01, 4.500e+01,\n",
       "       5.180e+02, 5.020e+02, 3.400e+02, 2.970e+02, 7.500e+01, 5.000e+00])"
      ]
     },
     "execution_count": 18,
     "metadata": {},
     "output_type": "execute_result"
    }
   ],
   "source": [
    "df[\"Price\"].unique()"
   ]
  },
  {
   "cell_type": "code",
   "execution_count": 19,
   "id": "eeb32847-3fde-4cfa-ac8d-444a47512136",
   "metadata": {},
   "outputs": [
    {
     "data": {
      "text/plain": [
       "Avg ratings\n",
       "2.9    3279\n",
       "4.3     792\n",
       "4.2     754\n",
       "4.1     700\n",
       "4.4     573\n",
       "4.0     524\n",
       "3.9     421\n",
       "4.5     338\n",
       "3.8     313\n",
       "3.7     207\n",
       "4.6     166\n",
       "3.6     118\n",
       "4.7      96\n",
       "3.5      95\n",
       "3.4      60\n",
       "3.3      51\n",
       "3.2      45\n",
       "4.8      29\n",
       "3.1      26\n",
       "3.0      25\n",
       "5.0      18\n",
       "2.8      15\n",
       "4.9      15\n",
       "2.7      11\n",
       "2.2       3\n",
       "2.6       2\n",
       "2.5       1\n",
       "2.3       1\n",
       "2.0       1\n",
       "2.4       1\n",
       "Name: count, dtype: int64"
      ]
     },
     "execution_count": 19,
     "metadata": {},
     "output_type": "execute_result"
    }
   ],
   "source": [
    "df[\"Avg ratings\"].value_counts()"
   ]
  },
  {
   "cell_type": "code",
   "execution_count": 20,
   "id": "50f06553-2358-4837-82d1-d3f9997f8b4c",
   "metadata": {},
   "outputs": [
    {
     "data": {
      "text/plain": [
       "30"
      ]
     },
     "execution_count": 20,
     "metadata": {},
     "output_type": "execute_result"
    }
   ],
   "source": [
    "df[\"Avg ratings\"].nunique()"
   ]
  },
  {
   "cell_type": "code",
   "execution_count": 21,
   "id": "9fb58324-b6ec-465e-8d15-d1738578b331",
   "metadata": {},
   "outputs": [],
   "source": [
    "# Define bins and labels\n",
    "bins = [0, 3.0, 4.0, 5.0]  # Define bin edges\n",
    "labels = ['Low', 'Medium', 'High']  # Define labels for the bins\n",
    "\n",
    "# Discretize the column\n",
    "df['Rating_Category'] = pd.cut(df['Avg ratings'], bins=bins, labels=labels, include_lowest=True)\n",
    "df.drop(columns=['Avg ratings'], inplace=True)\n"
   ]
  },
  {
   "cell_type": "code",
   "execution_count": 22,
   "id": "cb82117a-d840-4ca9-a502-c174386548b5",
   "metadata": {},
   "outputs": [
    {
     "data": {
      "text/plain": [
       "Total ratings\n",
       "80       3273\n",
       "100      1987\n",
       "20       1440\n",
       "50        985\n",
       "500       568\n",
       "1000      407\n",
       "5000       14\n",
       "10000       6\n",
       "Name: count, dtype: int64"
      ]
     },
     "execution_count": 22,
     "metadata": {},
     "output_type": "execute_result"
    }
   ],
   "source": [
    "df[\"Total ratings\"].value_counts()"
   ]
  },
  {
   "cell_type": "code",
   "execution_count": 23,
   "id": "750dfcc9-c651-410e-aa98-8636c74a6724",
   "metadata": {},
   "outputs": [
    {
     "data": {
      "text/plain": [
       "array([  100,   500,    50,    80,  1000,  5000,    20, 10000],\n",
       "      dtype=int64)"
      ]
     },
     "execution_count": 23,
     "metadata": {},
     "output_type": "execute_result"
    }
   ],
   "source": [
    "df[\"Total ratings\"].unique()"
   ]
  },
  {
   "cell_type": "code",
   "execution_count": 24,
   "id": "b9a97274-d14b-448a-928d-945c36a0a7c3",
   "metadata": {},
   "outputs": [],
   "source": [
    "df = df.drop([\"Total ratings\"], axis=1)"
   ]
  },
  {
   "cell_type": "code",
   "execution_count": 25,
   "id": "befeb3ed-6718-4ad2-866e-4b210819c81b",
   "metadata": {},
   "outputs": [
    {
     "data": {
      "text/plain": [
       "Food type\n",
       "Indian                                                      389\n",
       "Chinese                                                     277\n",
       "North Indian                                                246\n",
       "Fast Food                                                   240\n",
       "South Indian                                                228\n",
       "                                                           ... \n",
       "Andhra,South Indian,North Indian,Biryani                      1\n",
       "Healthy Food  Juices  Continental                             1\n",
       "Bengali  Indian  Combo                                        1\n",
       "South Indian,Indian,North Indian,Chinese,Biryani,Tandoor      1\n",
       "Chaat,Snacks,Chinese                                          1\n",
       "Name: count, Length: 3734, dtype: int64"
      ]
     },
     "execution_count": 25,
     "metadata": {},
     "output_type": "execute_result"
    }
   ],
   "source": [
    "df[\"Food type\"].value_counts()"
   ]
  },
  {
   "cell_type": "code",
   "execution_count": 26,
   "id": "0d5ac417-f817-44b7-b794-f8eb59b7a2f2",
   "metadata": {},
   "outputs": [
    {
     "data": {
      "text/plain": [
       "array(['Biryani,Chinese,North Indian,South Indian', 'Mughlai,Lucknowi',\n",
       "       'Chinese', ..., 'Chinese,Snacks,Tandoor',\n",
       "       'North Indian,Indian,Snacks', 'Chaat,Snacks,Chinese'], dtype=object)"
      ]
     },
     "execution_count": 26,
     "metadata": {},
     "output_type": "execute_result"
    }
   ],
   "source": [
    "df[\"Food type\"].unique()"
   ]
  },
  {
   "cell_type": "code",
   "execution_count": 27,
   "id": "72b979a5-ddd1-48d5-85b3-fdb1f97941f4",
   "metadata": {},
   "outputs": [
    {
     "data": {
      "text/plain": [
       "Address\n",
       "Rohini                                 229\n",
       "Chembur                                166\n",
       "Kothrud                                158\n",
       "Kurla                                  138\n",
       "Navrangpura                            136\n",
       "                                      ... \n",
       "Punjagutta                               1\n",
       "Motilal Nehru Road                       1\n",
       "Ib Block Broadway Mall Sector            1\n",
       "S.P. Mukherjee Road Southern Aveneu      1\n",
       "Sanjay Nagar New Bel Road                1\n",
       "Name: count, Length: 2339, dtype: int64"
      ]
     },
     "execution_count": 27,
     "metadata": {},
     "output_type": "execute_result"
    }
   ],
   "source": [
    "df[\"Address\"].value_counts()"
   ]
  },
  {
   "cell_type": "code",
   "execution_count": 28,
   "id": "02dc6361-fb4b-4269-9106-6be0b3cec0ca",
   "metadata": {},
   "outputs": [
    {
     "data": {
      "text/plain": [
       "2339"
      ]
     },
     "execution_count": 28,
     "metadata": {},
     "output_type": "execute_result"
    }
   ],
   "source": [
    "df[\"Address\"].nunique()"
   ]
  },
  {
   "cell_type": "code",
   "execution_count": 29,
   "id": "6f3d544f-d73b-484c-a10d-a61957450db3",
   "metadata": {},
   "outputs": [],
   "source": [
    "df = df.drop([\"Address\"], axis=1)"
   ]
  },
  {
   "cell_type": "code",
   "execution_count": 30,
   "id": "8b925246-4426-4ba4-ae6c-3c6b7e40daa2",
   "metadata": {},
   "outputs": [
    {
     "data": {
      "text/plain": [
       "Delivery time\n",
       "52     274\n",
       "47     265\n",
       "49     263\n",
       "46     252\n",
       "45     246\n",
       "      ... \n",
       "21       1\n",
       "109      1\n",
       "100      1\n",
       "20       1\n",
       "22       1\n",
       "Name: count, Length: 81, dtype: int64"
      ]
     },
     "execution_count": 30,
     "metadata": {},
     "output_type": "execute_result"
    }
   ],
   "source": [
    "df[\"Delivery time\"].value_counts()"
   ]
  },
  {
   "cell_type": "code",
   "execution_count": 31,
   "id": "b466dddb-ad85-4d99-86da-cc848b637d60",
   "metadata": {},
   "outputs": [
    {
     "data": {
      "text/plain": [
       "81"
      ]
     },
     "execution_count": 31,
     "metadata": {},
     "output_type": "execute_result"
    }
   ],
   "source": [
    "df[\"Delivery time\"].nunique()"
   ]
  },
  {
   "cell_type": "code",
   "execution_count": 32,
   "id": "3f3de65f-906c-4aae-942d-dd89091fffce",
   "metadata": {},
   "outputs": [],
   "source": [
    "\n",
    "\n",
    "# Define intervals and labels\n",
    "bins = [20, 50, 80, 110]  # Define the edges of the intervals\n",
    "labels = ['Instant Delivery', 'Express Delivery', 'Standard Delivery']  # Realistic labels\n",
    "\n",
    "# Discretize the column into intervals\n",
    "df['Delivery Category'] = pd.cut(df['Delivery time'], bins=bins, labels=labels, include_lowest=True)\n",
    "\n",
    "# Drop the original column if required\n",
    "df.drop(columns=['Delivery time'], inplace=True)\n"
   ]
  },
  {
   "cell_type": "code",
   "execution_count": 33,
   "id": "f8c7f0ae-b494-43c2-a6ec-d1bd073852f0",
   "metadata": {},
   "outputs": [
    {
     "data": {
      "text/plain": [
       "ID                      int64\n",
       "City                   object\n",
       "Price                 float64\n",
       "Food type              object\n",
       "Rating_Category      category\n",
       "Delivery Category    category\n",
       "dtype: object"
      ]
     },
     "execution_count": 33,
     "metadata": {},
     "output_type": "execute_result"
    }
   ],
   "source": [
    "df.dtypes"
   ]
  },
  {
   "cell_type": "code",
   "execution_count": 34,
   "id": "9a5d0de9-5193-4e5b-a278-9e96d7a954e9",
   "metadata": {},
   "outputs": [],
   "source": [
    "continous=[\"Price\"]\n",
    "discrete_categorical=[\"City\",\"Food type\",\"Rating_Category\",\"Delivery Category\"]\n"
   ]
  },
  {
   "cell_type": "code",
   "execution_count": 35,
   "id": "1c34262c-e069-409e-a3c7-a20f005b7c28",
   "metadata": {},
   "outputs": [
    {
     "data": {
      "text/html": [
       "<div>\n",
       "<style scoped>\n",
       "    .dataframe tbody tr th:only-of-type {\n",
       "        vertical-align: middle;\n",
       "    }\n",
       "\n",
       "    .dataframe tbody tr th {\n",
       "        vertical-align: top;\n",
       "    }\n",
       "\n",
       "    .dataframe thead th {\n",
       "        text-align: right;\n",
       "    }\n",
       "</style>\n",
       "<table border=\"1\" class=\"dataframe\">\n",
       "  <thead>\n",
       "    <tr style=\"text-align: right;\">\n",
       "      <th></th>\n",
       "      <th>Price</th>\n",
       "    </tr>\n",
       "  </thead>\n",
       "  <tbody>\n",
       "    <tr>\n",
       "      <th>count</th>\n",
       "      <td>8680.000000</td>\n",
       "    </tr>\n",
       "    <tr>\n",
       "      <th>mean</th>\n",
       "      <td>348.444470</td>\n",
       "    </tr>\n",
       "    <tr>\n",
       "      <th>std</th>\n",
       "      <td>230.940074</td>\n",
       "    </tr>\n",
       "    <tr>\n",
       "      <th>min</th>\n",
       "      <td>0.000000</td>\n",
       "    </tr>\n",
       "    <tr>\n",
       "      <th>25%</th>\n",
       "      <td>200.000000</td>\n",
       "    </tr>\n",
       "    <tr>\n",
       "      <th>50%</th>\n",
       "      <td>300.000000</td>\n",
       "    </tr>\n",
       "    <tr>\n",
       "      <th>75%</th>\n",
       "      <td>400.000000</td>\n",
       "    </tr>\n",
       "    <tr>\n",
       "      <th>max</th>\n",
       "      <td>2500.000000</td>\n",
       "    </tr>\n",
       "  </tbody>\n",
       "</table>\n",
       "</div>"
      ],
      "text/plain": [
       "             Price\n",
       "count  8680.000000\n",
       "mean    348.444470\n",
       "std     230.940074\n",
       "min       0.000000\n",
       "25%     200.000000\n",
       "50%     300.000000\n",
       "75%     400.000000\n",
       "max    2500.000000"
      ]
     },
     "execution_count": 35,
     "metadata": {},
     "output_type": "execute_result"
    }
   ],
   "source": [
    "df[continous].describe()"
   ]
  },
  {
   "cell_type": "code",
   "execution_count": 36,
   "id": "668dd60d-77f6-4194-94e1-ceb4f349dc7f",
   "metadata": {},
   "outputs": [
    {
     "data": {
      "image/png": "[encoded data removed]",
      "text/plain": [
       "<Figure size 800x500 with 1 Axes>"
      ]
     },
     "metadata": {},
     "output_type": "display_data"
    }
   ],
   "source": [
    "import matplotlib.pyplot as plt\n",
    "import seaborn as sns\n",
    "\n",
    "# Create subplots for better visualization if needed\n",
    "fig, axes = plt.subplots(1, 1, figsize=(8, 5))\n",
    "\n",
    "# Plot histogram with KDE\n",
    "sns.histplot(df[\"Price\"], kde=True, ax=axes)\n",
    "axes.set_title('Distribution of price Amount')\n",
    "axes.set_xlabel('Price')\n",
    "axes.set_ylabel('Frequency')\n",
    "\n",
    "# Show the plot\n",
    "plt.tight_layout()\n",
    "plt.show()"
   ]
  },
  {
   "cell_type": "code",
   "execution_count": 37,
   "id": "c33e733e-47e7-4355-a83d-1d3f75aaed57",
   "metadata": {},
   "outputs": [
    {
     "data": {
      "text/plain": [
       "Price    2.623741\n",
       "dtype: float64"
      ]
     },
     "execution_count": 37,
     "metadata": {},
     "output_type": "execute_result"
    }
   ],
   "source": [
    "df[continous].skew()"
   ]
  },
  {
   "cell_type": "code",
   "execution_count": 38,
   "id": "37b59e2c-37a1-4b73-a59c-dda9267378d6",
   "metadata": {},
   "outputs": [
    {
     "data": {
      "image/png": "[encoded data removed]",
      "text/plain": [
       "<Figure size 250x250 with 2 Axes>"
      ]
     },
     "metadata": {},
     "output_type": "display_data"
    }
   ],
   "source": [
    "sns.pairplot(df[continous])\n",
    "plt.show()"
   ]
  },
  {
   "cell_type": "code",
   "execution_count": 39,
   "id": "fe1d4dfe-30e8-4fa9-a276-2798d062150a",
   "metadata": {},
   "outputs": [
    {
     "data": {
      "text/html": [
       "<div>\n",
       "<style scoped>\n",
       "    .dataframe tbody tr th:only-of-type {\n",
       "        vertical-align: middle;\n",
       "    }\n",
       "\n",
       "    .dataframe tbody tr th {\n",
       "        vertical-align: top;\n",
       "    }\n",
       "\n",
       "    .dataframe thead th {\n",
       "        text-align: right;\n",
       "    }\n",
       "</style>\n",
       "<table border=\"1\" class=\"dataframe\">\n",
       "  <thead>\n",
       "    <tr style=\"text-align: right;\">\n",
       "      <th></th>\n",
       "      <th>City</th>\n",
       "      <th>Food type</th>\n",
       "      <th>Rating_Category</th>\n",
       "      <th>Delivery Category</th>\n",
       "    </tr>\n",
       "  </thead>\n",
       "  <tbody>\n",
       "    <tr>\n",
       "      <th>count</th>\n",
       "      <td>8680</td>\n",
       "      <td>8680</td>\n",
       "      <td>8680</td>\n",
       "      <td>8680</td>\n",
       "    </tr>\n",
       "    <tr>\n",
       "      <th>unique</th>\n",
       "      <td>9</td>\n",
       "      <td>3734</td>\n",
       "      <td>3</td>\n",
       "      <td>3</td>\n",
       "    </tr>\n",
       "    <tr>\n",
       "      <th>top</th>\n",
       "      <td>Kolkata</td>\n",
       "      <td>Indian</td>\n",
       "      <td>High</td>\n",
       "      <td>Express Delivery</td>\n",
       "    </tr>\n",
       "    <tr>\n",
       "      <th>freq</th>\n",
       "      <td>1346</td>\n",
       "      <td>389</td>\n",
       "      <td>3481</td>\n",
       "      <td>4490</td>\n",
       "    </tr>\n",
       "  </tbody>\n",
       "</table>\n",
       "</div>"
      ],
      "text/plain": [
       "           City Food type Rating_Category Delivery Category\n",
       "count      8680      8680            8680              8680\n",
       "unique        9      3734               3                 3\n",
       "top     Kolkata    Indian            High  Express Delivery\n",
       "freq       1346       389            3481              4490"
      ]
     },
     "execution_count": 39,
     "metadata": {},
     "output_type": "execute_result"
    }
   ],
   "source": [
    "df[discrete_categorical].describe()"
   ]
  },
  {
   "cell_type": "code",
   "execution_count": 40,
   "id": "0095c8c0-969a-4162-aeb6-f9acc0cb7a06",
   "metadata": {},
   "outputs": [
    {
     "data": {
      "image/png": "[encoded data removed]",
      "text/plain": [
       "<Figure size 640x480 with 1 Axes>"
      ]
     },
     "metadata": {},
     "output_type": "display_data"
    }
   ],
   "source": [
    "plt.boxplot(df[\"Price\"])\n",
    "plt.show()"
   ]
  },
  {
   "cell_type": "code",
   "execution_count": 41,
   "id": "e417c324-3852-4c85-9e88-1f9e426994e7",
   "metadata": {},
   "outputs": [
    {
     "data": {
      "image/png": "[encoded data removed]",
      "text/plain": [
       "<Figure size 1800x1600 with 4 Axes>"
      ]
     },
     "metadata": {},
     "output_type": "display_data"
    }
   ],
   "source": [
    "import matplotlib.pyplot as plt\n",
    "import seaborn as sns\n",
    "\n",
    "# Adjust the figure size for better visualization\n",
    "plt.figure(figsize=(18, 16))\n",
    "\n",
    "# Create a 3x3 grid of subplots to fit 9 plots\n",
    "plt.subplot(3, 3, 1)\n",
    "sns.countplot(y=\"City\", data=df, order=df['City'].value_counts().index)\n",
    "plt.title(\"City\")\n",
    "\n",
    "plt.subplot(3, 3, 2)\n",
    "sns.countplot(y=\"Food type\", data=df, order=df['Food type'].value_counts().head(10).index)\n",
    "plt.title(\"Food type\")\n",
    "\n",
    "plt.subplot(3, 3, 3)\n",
    "sns.countplot(y=\"Rating_Category\", data=df, order=df['Rating_Category'].value_counts().head(10).index)\n",
    "plt.title(\"Rating_Category\")\n",
    "\n",
    "plt.subplot(3, 3, 4)\n",
    "sns.countplot(y=\"Delivery Category\", data=df, order=df['Delivery Category'].value_counts().head(10).index)\n",
    "plt.title(\"Delivery Category\")\n",
    "\n",
    "# Add a main title for all plots\n",
    "plt.suptitle(\"Distribution of Categorical Features\", fontsize=20)\n",
    "\n",
    "# Adjust layout to avoid overlapping\n",
    "plt.tight_layout(rect=[0, 0, 1, 0.95])\n",
    "\n",
    "# Show the plots\n",
    "plt.show()\n"
   ]
  },
  {
   "cell_type": "code",
   "execution_count": 42,
   "id": "b5ec318a-9a5b-42ef-8fc9-63cf3af70754",
   "metadata": {},
   "outputs": [
    {
     "data": {
      "text/plain": [
       "ID                   0\n",
       "City                 0\n",
       "Price                0\n",
       "Food type            0\n",
       "Rating_Category      0\n",
       "Delivery Category    0\n",
       "dtype: int64"
      ]
     },
     "execution_count": 42,
     "metadata": {},
     "output_type": "execute_result"
    }
   ],
   "source": [
    "df.isnull().sum()"
   ]
  },
  {
   "cell_type": "code",
   "execution_count": 43,
   "id": "a021f717-346e-4bc9-a04c-141d06a9a3f3",
   "metadata": {},
   "outputs": [
    {
     "data": {
      "text/plain": [
       "0"
      ]
     },
     "execution_count": 43,
     "metadata": {},
     "output_type": "execute_result"
    }
   ],
   "source": [
    "df.duplicated().sum()"
   ]
  },
  {
   "cell_type": "code",
   "execution_count": 44,
   "id": "601d0dde-1545-47cd-9ae2-73c028f239b5",
   "metadata": {},
   "outputs": [],
   "source": [
    "df.to_excel(\"Cleaned_Swiggy_Dataset.xlsx\",index=False)\n"
   ]
  }
 ],
 "metadata": {
  "kernelspec": {
   "display_name": "Python 3 (ipykernel)",
   "language": "python",
   "name": "python3"
  },
  "language_info": {
   "codemirror_mode": {
    "name": "ipython",
    "version": 3
   },
   "file_extension": ".py",
   "mimetype": "text/x-python",
   "name": "python",
   "nbconvert_exporter": "python",
   "pygments_lexer": "ipython3",
   "version": "3.11.7"
  }
 },
 "nbformat": 4,
 "nbformat_minor": 5
}
